{
  "nbformat": 4,
  "nbformat_minor": 0,
  "metadata": {
    "colab": {
      "provenance": [],
      "toc_visible": true,
      "include_colab_link": true
    },
    "kernelspec": {
      "name": "python3",
      "display_name": "Python 3"
    },
    "language_info": {
      "name": "python"
    }
  },
  "cells": [
    {
      "cell_type": "markdown",
      "metadata": {
        "id": "view-in-github",
        "colab_type": "text"
      },
      "source": [
        "<a href=\"https://colab.research.google.com/github/misaelarce/CS-179-Python/blob/main/Variables.ipynb\" target=\"_parent\"><img src=\"https://colab.research.google.com/assets/colab-badge.svg\" alt=\"Open In Colab\"/></a>"
      ]
    },
    {
      "cell_type": "markdown",
      "source": [
        "# Python variables\n",
        "\n",
        "Variables are human-friendly names of memory locations\n",
        "\n",
        "## Objective\n",
        "1. Understand how to define variables in Python.\n",
        "2. Gain a clear understanding of how the Python interpreter allocates memory addresses to variables.\n",
        "3. Skilled in troubleshooting techniques.\n",
        "\n",
        "## Prerequisite\n",
        "\n",
        "- Python literals lecture & lab\n",
        "- Programming variables lecture\n",
        "\n",
        "## What do you need to complete this exercise?\n",
        "\n",
        "You can perform this exercise in any Python IDE, including JupyterLab or Google Colab.\n"
      ],
      "metadata": {
        "id": "2ITy4ycVFXBq"
      }
    },
    {
      "cell_type": "markdown",
      "source": [
        "### Variable definition\n",
        "\n",
        "No need to declare the variable data type; variables can be assigned values or strings as needed."
      ],
      "metadata": {
        "id": "uQxH0KO0tsDc"
      }
    },
    {
      "cell_type": "code",
      "source": [
        "var1 = 10 # integer\n",
        "print(type(var1)) # var1 holds integer data type\n",
        "var2 = 100.0 # float\n",
        "print(type(var2))  # var2 holds float data type\n",
        "print(var1 * var2)  # var1 * var2 - float data type\n",
        "str1 = \"Hello World\"\n",
        "type(str1)\n",
        "print(str1)\n",
        "str2 = 'Single quote can also be used'\n",
        "type(str2)\n",
        "print(str2)\n",
        "var1 = \"Now I am a string data type\"\n",
        "del(var1) # delete the var1"
      ],
      "metadata": {
        "colab": {
          "base_uri": "https://localhost:8080/"
        },
        "id": "6RKggasqIqbr",
        "outputId": "e592377f-9af5-4372-a28d-cec18af588d2"
      },
      "execution_count": null,
      "outputs": [
        {
          "output_type": "stream",
          "name": "stdout",
          "text": [
            "<class 'int'>\n",
            "<class 'float'>\n",
            "1000.0\n",
            "Hello World\n",
            "Single quote can also be used\n"
          ]
        }
      ]
    },
    {
      "cell_type": "markdown",
      "source": [
        "### Variable memory usage\n"
      ],
      "metadata": {
        "id": "58GMVBXqKY89"
      }
    },
    {
      "cell_type": "code",
      "source": [
        "var1 = 10"
      ],
      "metadata": {
        "id": "nG3zhLAuJOdz"
      },
      "execution_count": null,
      "outputs": []
    },
    {
      "cell_type": "code",
      "source": [
        "# Check the memory address of var1 by using the following statement\n",
        "print(hex(id(var1)))"
      ],
      "metadata": {
        "id": "mjwxa33VJVix",
        "outputId": "2b0c8718-e934-4ca2-cc41-fafae2888a10",
        "colab": {
          "base_uri": "https://localhost:8080/"
        }
      },
      "execution_count": 15,
      "outputs": [
        {
          "output_type": "stream",
          "name": "stdout",
          "text": [
            "0xa40ca8\n"
          ]
        }
      ]
    },
    {
      "cell_type": "code",
      "source": [
        "var1 = 100\n",
        "# Check the memory address of var1 again"
      ],
      "metadata": {
        "id": "rQqjsX6pJafY"
      },
      "execution_count": 39,
      "outputs": []
    },
    {
      "cell_type": "code",
      "source": [
        "print(hex(id(var1)))"
      ],
      "metadata": {
        "id": "bXIAgWixJ97B",
        "outputId": "9172b3df-e666-45a3-9289-c61ae88df0dd",
        "colab": {
          "base_uri": "https://localhost:8080/"
        }
      },
      "execution_count": 17,
      "outputs": [
        {
          "output_type": "stream",
          "name": "stdout",
          "text": [
            "0xa417e8\n"
          ]
        }
      ]
    },
    {
      "cell_type": "markdown",
      "source": [
        "You should see two distinct addresses for var1. Explain why there are two different addresses and what happened to the first one."
      ],
      "metadata": {
        "id": "JrodhFbkJewA"
      }
    },
    {
      "cell_type": "markdown",
      "source": [
        "Python does not override a value from a variable if the value changes. Python stores the previous value and uses another memeory for the new value."
      ],
      "metadata": {
        "id": "_WxKib7ZaNmO"
      }
    },
    {
      "cell_type": "code",
      "source": [
        "var2 = 100\n",
        "# Write your print statement\n",
        "# Check the memory address of var2. Did the Python interpreter assign a new memory address or reuse the existing one?"
      ],
      "metadata": {
        "id": "sWuIw2guJ1wK"
      },
      "execution_count": null,
      "outputs": []
    },
    {
      "cell_type": "code",
      "source": [
        "print(hex(id(var2)))"
      ],
      "metadata": {
        "id": "rOt7-7eLKFl_",
        "outputId": "720834b9-2e71-4b54-84e8-b905db3e5fe6",
        "colab": {
          "base_uri": "https://localhost:8080/"
        }
      },
      "execution_count": 19,
      "outputs": [
        {
          "output_type": "stream",
          "name": "stdout",
          "text": [
            "0x7d9e14629bd0\n"
          ]
        }
      ]
    },
    {
      "cell_type": "markdown",
      "source": [
        "Var2 has its own address separate from var1 because it's a different variable name and value. (A floater of '100.0' is a different vlaue from the integer '100'.)"
      ],
      "metadata": {
        "id": "YxhInVMSbDOH"
      }
    },
    {
      "cell_type": "markdown",
      "source": [
        "### Memory map"
      ],
      "metadata": {
        "id": "WpQLLdj7Lr4K"
      }
    },
    {
      "cell_type": "code",
      "source": [
        "str1 = \"Hello\"\n",
        "str2 = \"World\""
      ],
      "metadata": {
        "id": "tecKbG6eKOo1"
      },
      "execution_count": null,
      "outputs": []
    },
    {
      "cell_type": "code",
      "source": [
        "# Find out the memory addresses of each character in str1 and str2.\n",
        "# The following is the example"
      ],
      "metadata": {
        "id": "KOrIVOosKUWD"
      },
      "execution_count": null,
      "outputs": []
    },
    {
      "cell_type": "code",
      "source": [
        "print(hex(id(str1[0])), hex(id(str1[1])))  # where 0 is the first index and 1 is the second index\n",
        "# Use the same method as described above to find the addresses of additional characters and complete the table below."
      ],
      "metadata": {
        "id": "egL18fPSKXfz",
        "outputId": "8ee8cfda-252f-4fcd-dc3f-3eba77e88aa8",
        "colab": {
          "base_uri": "https://localhost:8080/"
        }
      },
      "execution_count": 20,
      "outputs": [
        {
          "output_type": "stream",
          "name": "stdout",
          "text": [
            "0xa4b9e8 0xa4c040\n"
          ]
        }
      ]
    },
    {
      "cell_type": "code",
      "source": [
        "print(hex(id(str1[10])))"
      ],
      "metadata": {
        "id": "C-wm9bbDd7E0",
        "outputId": "30923f00-6632-4225-beff-fca71caed514",
        "colab": {
          "base_uri": "https://localhost:8080/"
        }
      },
      "execution_count": 38,
      "outputs": [
        {
          "output_type": "stream",
          "name": "stdout",
          "text": [
            "0xa4c008\n"
          ]
        }
      ]
    },
    {
      "cell_type": "markdown",
      "source": [
        "| Address in hexadecimal | Char |\n",
        "| ---------------------- | ---- |\n",
        "| #         0xa4b9e8       0      |      |\n",
        "| #         0xa4c040   |   1   |\n",
        "| #         0xa4c1c8   |   2    |\n",
        "| #         0xa4c1c8       3   |      |\n",
        "| #         0xa4c270       4   |      |\n",
        "| #         0xa4b128       5   |      |\n",
        "| #         0xa4bd30       6    |      |\n",
        "| #         0xa4c270       7   |      |\n",
        "| #         0xa4c318       8    |      |\n",
        "| #         0xa4c1c8       9  |      |"
      ],
      "metadata": {
        "id": "-mBS7AwtKclS"
      }
    },
    {
      "cell_type": "markdown",
      "source": [
        "### Problem-solving\n",
        "\n",
        " Let the variable ```x``` be ```dog``` and the variable ```y``` be ```cat```. Write the values returned by the following operations: **Try solving without writing in Python.**  \n",
        "-  x + y  \n",
        "-  \"the \" + x + \" chases the \" + y  \n",
        "-  x * 4  "
      ],
      "metadata": {
        "id": "rTf_jwaTMyEu"
      }
    },
    {
      "cell_type": "markdown",
      "source": [
        "dogcat\n",
        "the dog chases the cat\n",
        "dogdogdogdog"
      ],
      "metadata": {
        "id": "cZo5BEsJM7qC"
      }
    },
    {
      "cell_type": "markdown",
      "source": [
        "If ```x = 50```. Use an assignment statement to increment the value of ```x``` by 1.  "
      ],
      "metadata": {
        "id": "oFpYtt5KNCjK"
      }
    },
    {
      "cell_type": "code",
      "source": [
        "x=50\n",
        "print(x+1)"
      ],
      "metadata": {
        "id": "Q4Z1wMB_NDNi",
        "outputId": "38ecf2b5-819d-4d50-f02e-7168a625b5c9",
        "colab": {
          "base_uri": "https://localhost:8080/"
        }
      },
      "execution_count": 40,
      "outputs": [
        {
          "output_type": "stream",
          "name": "stdout",
          "text": [
            "51\n"
          ]
        }
      ]
    },
    {
      "cell_type": "markdown",
      "source": [
        "### Troubleshooting\n",
        "\n",
        "Please troubleshoot the following issue **without using Python**, and explain your reasoning.\n",
        "\n",
        "a. ```hello = \"hello\"```  \n",
        "b. ```_var = 100```  \n",
        "c. ```!var_1 = 200```  \n",
        "d. ```print = \"print me\"```  \n",
        "e. ```False = 0```  "
      ],
      "metadata": {
        "id": "V0l5fqK-NJ2n"
      }
    },
    {
      "cell_type": "code",
      "source": [],
      "metadata": {
        "id": "shqsSxAgh_cj"
      },
      "execution_count": null,
      "outputs": []
    },
    {
      "cell_type": "markdown",
      "source": [
        "A. Nothing wrong but you want to avoid having same variable name as value.\n",
        "B. Variable name cannot start with undersocre.\n",
        "C. Variable name cannot start with special characters.\n",
        "D. Avoid having the same variable name as output spacially print, which is a function.\n",
        "E. Cannot assign Boolean to variable."
      ],
      "metadata": {
        "id": "By63aNTKiAUm"
      }
    },
    {
      "cell_type": "markdown",
      "source": [],
      "metadata": {
        "id": "Cz8CqobPNO8n"
      }
    },
    {
      "cell_type": "code",
      "source": [
        "hello = \"hello\"\n",
        "_var = 100\n",
        "!var_1 = 200\n",
        "print = \"print me\"\n",
        "False = 0"
      ],
      "metadata": {
        "id": "XYJF6Dk4jJEI",
        "outputId": "810e5366-39b2-45f1-b5cc-8a63755f6ebc",
        "colab": {
          "base_uri": "https://localhost:8080/",
          "height": 108
        }
      },
      "execution_count": 41,
      "outputs": [
        {
          "output_type": "error",
          "ename": "SyntaxError",
          "evalue": "cannot assign to False (<ipython-input-41-2d26844267f9>, line 5)",
          "traceback": [
            "\u001b[0;36m  File \u001b[0;32m\"<ipython-input-41-2d26844267f9>\"\u001b[0;36m, line \u001b[0;32m5\u001b[0m\n\u001b[0;31m    False = 0\u001b[0m\n\u001b[0m    ^\u001b[0m\n\u001b[0;31mSyntaxError\u001b[0m\u001b[0;31m:\u001b[0m cannot assign to False\n"
          ]
        }
      ]
    },
    {
      "cell_type": "markdown",
      "source": [
        "## Challenges\n",
        "\n",
        "Please describe the challenges you faced during the exercise."
      ],
      "metadata": {
        "id": "xQzjxKdvvbyo"
      }
    },
    {
      "cell_type": "markdown",
      "source": [
        "My firs time reading a complete Instruction List so it was hard to follow and break down what was going on in the code. Remembering how Python uses memory for variables was also a bit tricky but not too bad in the end."
      ],
      "metadata": {
        "id": "qfJNpTB5EbY4"
      }
    }
  ]
}