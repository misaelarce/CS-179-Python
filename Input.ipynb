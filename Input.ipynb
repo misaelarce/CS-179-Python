{
  "nbformat": 4,
  "nbformat_minor": 0,
  "metadata": {
    "colab": {
      "provenance": [],
      "include_colab_link": true
    },
    "kernelspec": {
      "name": "python3",
      "display_name": "Python 3"
    },
    "language_info": {
      "name": "python"
    }
  },
  "cells": [
    {
      "cell_type": "markdown",
      "metadata": {
        "id": "view-in-github",
        "colab_type": "text"
      },
      "source": [
        "<a href=\"https://colab.research.google.com/github/misaelarce/CS-179-Python/blob/main/Input.ipynb\" target=\"_parent\"><img src=\"https://colab.research.google.com/assets/colab-badge.svg\" alt=\"Open In Colab\"/></a>"
      ]
    },
    {
      "cell_type": "markdown",
      "source": [
        "# User input in Python\n",
        "\n",
        "## Objective\n",
        "1. Understand how ```input()``` function is applied.\n",
        "\n",
        "## Prerequisite\n",
        "\n",
        "- Python literals lecture & lab\n",
        "- Programming variables lecture\n",
        "\n",
        "## What do you need to complete this exercise?\n",
        "\n",
        "You can perform this exercise in any Python IDE, including JupyterLab or Google Colab.\n"
      ],
      "metadata": {
        "id": "2ITy4ycVFXBq"
      }
    },
    {
      "cell_type": "markdown",
      "source": [
        "### User input\n",
        "\n",
        "a. Write a program that prompts the user to enter the weight of a person in kilograms and outputs the equivalent weight in pounds. (Note that 1 kilogram = 2.2 pounds)."
      ],
      "metadata": {
        "id": "uQxH0KO0tsDc"
      }
    },
    {
      "cell_type": "code",
      "source": [
        "# Write your code here\n",
        "# Hint: Use int() or float() to convert the user input into an integer or float\n",
        "Weight=float(input(\"Enter the weight in kilograms: \"))\n",
        "pounds=2.2*Weight\n",
        "print(\"weight in pounds is:\",pounds)"
      ],
      "metadata": {
        "colab": {
          "base_uri": "https://localhost:8080/"
        },
        "id": "N3wgQQ672rWR",
        "outputId": "1eed819a-b142-408a-9699-b6daa8aa0156"
      },
      "execution_count": 6,
      "outputs": [
        {
          "output_type": "stream",
          "name": "stdout",
          "text": [
            "Enter the weight in kilograms: 10\n",
            "weight in pounds is: 22.0\n"
          ]
        }
      ]
    },
    {
      "cell_type": "markdown",
      "source": [
        "b. Interest on a credit card's unpaid balance is calculated using the average daily balance. Suppose that $netBalance$ is the balance shown in the bill, $payment$ is the payment made, $d1$ is the number of days in the billing cycle, and $d2$ is the number of days payment is made before biling cycle. Then, the average daily balance is: $$averageDailybalance = (netBalance \\times d1 - payment \\times d2)/d1$$.\n",
        "\n",
        "If the interest rate per month is, say, 0.0152, then the interest on the unpaid balance is: $interest = averageDailyBalance \\times 0.0152$\n",
        "\n",
        "Write a program that accepts as input $netBalance$, $payment$, $d1$, $d2$, and $interest rate per month$. The program outputs the interest."
      ],
      "metadata": {
        "id": "2ou6B-5b2ws3"
      }
    },
    {
      "cell_type": "code",
      "source": [
        "netbalance=int()\n",
        "interest_rate=.0152\n",
        "average_daily_balance=(float(input(\"Enter the net balance: \")))\n",
        "\n"
      ],
      "metadata": {
        "id": "pqP70bD02x9h",
        "outputId": "fd8c5746-eb0d-4c53-d465-00e9365b9402",
        "colab": {
          "base_uri": "https://localhost:8080/"
        }
      },
      "execution_count": 13,
      "outputs": [
        {
          "name": "stdout",
          "output_type": "stream",
          "text": [
            "Enter the net balance: 300\n"
          ]
        }
      ]
    },
    {
      "cell_type": "markdown",
      "source": [
        "c. Two cars A and B leave an intersection at the same time. Car A travels west at an average speed of x miles per hour and car B travels south at an average speed of y miles per hour. Write a program that prompts the user to enter the average speed of both the cars and the elapsed time (in hours and minutes) and outputs the (shortest) distance between the cars."
      ],
      "metadata": {
        "id": "gAxw_xVk25qO"
      }
    },
    {
      "cell_type": "code",
      "source": [
        "speed_a = float(input(\"Enter the speed of car A (mph): \"))\n",
        "speed_b = float(input(\"Enter the speed of car B (mph): \"))\n",
        "hours = int(input(\"Enter elapsed time (hours): \"))\n",
        "minutes = int(input(\"Enter elapsed time (minutes): \"))\n",
        "total_hours = hours + minutes / 60\n",
        "distance_a = speed_a * total_hours\n",
        "distance_b = speed_b * total_hours\n",
        "\n",
        "average_speed=(float(input(\"Enter the average speed of both the cars: \")))\n"
      ],
      "metadata": {
        "id": "nMPuZXsH26nW",
        "outputId": "9bec0ab5-5b74-4533-bf3a-6c18b0e5ebf6",
        "colab": {
          "base_uri": "https://localhost:8080/"
        }
      },
      "execution_count": 14,
      "outputs": [
        {
          "name": "stdout",
          "output_type": "stream",
          "text": [
            "Enter the speed of car A (mph): 50\n",
            "Enter the speed of car B (mph): 60\n",
            "Enter elapsed time (hours): 2\n",
            "Enter elapsed time (minutes): 2\n",
            "Enter the average speed of both the cars: 30\n"
          ]
        }
      ]
    },
    {
      "cell_type": "markdown",
      "source": [
        "### Troubleshooting\n",
        "\n",
        "Please troubleshoot the following issue **without using Python**, and explain your reasoning.\n",
        "\n",
        "a. ```hello = \"hello\"```  \n",
        "b. ```_var = 100```  \n",
        "c. ```!var_1 = 200```  \n",
        "d. ```print = \"print me\"```  \n",
        "e. ```False = 0```  "
      ],
      "metadata": {
        "id": "V0l5fqK-NJ2n"
      }
    },
    {
      "cell_type": "markdown",
      "source": [
        "Write your answer here"
      ],
      "metadata": {
        "id": "Cz8CqobPNO8n"
      }
    },
    {
      "cell_type": "code",
      "source": [],
      "metadata": {
        "id": "0BR80Fav33tT"
      },
      "execution_count": null,
      "outputs": []
    },
    {
      "cell_type": "markdown",
      "source": [
        "A. Nothing wrong but you want to avoid having same variable name as value. B. Variable name cannot start with undersocre. C. Variable name cannot start with special characters. D. Avoid having the same variable name as output spacially print, which is a function. E. Cannot assign Boolean to variable.\n",
        "\n"
      ],
      "metadata": {
        "id": "9j0IaPrh32d9"
      }
    },
    {
      "cell_type": "markdown",
      "source": [
        "## Challenges\n",
        "\n",
        "Please describe the challenges you faced during the exercise."
      ],
      "metadata": {
        "id": "xQzjxKdvvbyo"
      }
    },
    {
      "cell_type": "markdown",
      "source": [
        "Write your challenges here"
      ],
      "metadata": {
        "id": "qfJNpTB5EbY4"
      }
    },
    {
      "cell_type": "markdown",
      "source": [
        "Using the input function is the most difficult funtions up to this point. Definitely need to review this to master it moving forward."
      ],
      "metadata": {
        "id": "1Oc99wbb3_Zq"
      }
    }
  ]
}