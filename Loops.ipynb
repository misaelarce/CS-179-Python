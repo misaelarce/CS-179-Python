{
  "nbformat": 4,
  "nbformat_minor": 0,
  "metadata": {
    "colab": {
      "provenance": [],
      "include_colab_link": true
    },
    "kernelspec": {
      "name": "python3",
      "display_name": "Python 3"
    },
    "language_info": {
      "name": "python"
    }
  },
  "cells": [
    {
      "cell_type": "markdown",
      "metadata": {
        "id": "view-in-github",
        "colab_type": "text"
      },
      "source": [
        "<a href=\"https://colab.research.google.com/github/misaelarce/CS-179-Python/blob/main/Loops.ipynb\" target=\"_parent\"><img src=\"https://colab.research.google.com/assets/colab-badge.svg\" alt=\"Open In Colab\"/></a>"
      ]
    },
    {
      "cell_type": "markdown",
      "source": [
        "# Loops in Python\n",
        "\n",
        "A sequence of instructions that repeats until a certain condition is met\n",
        "\n",
        "## Objective\n",
        "Understand how loops are applied\n",
        "\n",
        "## Prerequisite\n",
        "\n",
        "- Decision statements\n",
        "- Input functions\n",
        "- Python literals\n",
        "- Programming variables\n",
        "\n",
        "## What do you need to complete this exercise?\n",
        "\n",
        "You can perform this exercise in any Python IDE, including JupyterLab or Google Colab.\n"
      ],
      "metadata": {
        "id": "2ITy4ycVFXBq"
      }
    },
    {
      "cell_type": "markdown",
      "source": [
        "### While loop\n",
        "\n",
        "a. Please write Python code using a while loop to perform the following steps.\n",
        "\n",
        "1. Take any non-negative and non-zero integer number and name it ```n0```\n",
        "2. if the number is even, evaluate a new ```n0``` as ```n0 ÷ 2```;\n",
        "3. Otherwise, if the number is odd, evaluate a new ```n0``` as ```3 * n0 + 1```;\n",
        "4. if ```n0``` is not equal to 1, go to point 2.\n",
        "\n",
        "#### Sample input: ```16```\n",
        "\n",
        "#### Expected output: ###\n",
        "\n",
        "```\n",
        "8\n",
        "4\n",
        "2\n",
        "1\n",
        "steps = 4\n",
        "```"
      ],
      "metadata": {
        "id": "uQxH0KO0tsDc"
      }
    },
    {
      "cell_type": "code",
      "source": [
        "def collatz_sequence(n0):\n",
        "\n",
        "    while n0 != 1:\n",
        "        print(n0)\n",
        "        if n0 % 2 == 0:\n",
        "            n0 //= 2\n",
        "        else:\n",
        "            n0 = 3 * n0 + 1\n",
        "    print(1)\n",
        "\n",
        "n = int(input(\"Enter integer: \"))\n",
        "collatz_sequence(n)\n"
      ],
      "metadata": {
        "id": "5M7ksW8xsC3k",
        "colab": {
          "base_uri": "https://localhost:8080/"
        },
        "outputId": "7865447f-e55b-4a49-b959-76358322197d"
      },
      "execution_count": 23,
      "outputs": [
        {
          "output_type": "stream",
          "name": "stdout",
          "text": [
            "Enter integer: 16\n",
            "16\n",
            "8\n",
            "4\n",
            "2\n",
            "1\n"
          ]
        }
      ]
    },
    {
      "cell_type": "markdown",
      "source": [
        "b. Write code that uses a while loop and runs indefinitely. Modify the same code to resolve the infinite loop issue."
      ],
      "metadata": {
        "id": "S3X6hdy5sI-s"
      }
    },
    {
      "cell_type": "code",
      "source": [
        "x=10\n",
        "while x<=20:\n",
        "  print(x)\n",
        "  x=x+1"
      ],
      "metadata": {
        "id": "cs0pk1_qsNY0",
        "colab": {
          "base_uri": "https://localhost:8080/"
        },
        "outputId": "9010dc8c-6cc6-4f8b-a01b-f083b9cfad9c"
      },
      "execution_count": 6,
      "outputs": [
        {
          "output_type": "stream",
          "name": "stdout",
          "text": [
            "10\n",
            "11\n",
            "12\n",
            "13\n",
            "14\n",
            "15\n",
            "16\n",
            "17\n",
            "18\n",
            "19\n",
            "20\n"
          ]
        }
      ]
    },
    {
      "cell_type": "markdown",
      "source": [
        "c. Write a program that takes two integers as input and asks the user to choose an arithmetic operation to perform with those numbers. At the end of the program, prompt the user with the question, \"Do you want to continue?\" If the user selects \"Y\" or \"y,\" the program should restart; otherwise, it should exit and display the message, \"Have a good day.\""
      ],
      "metadata": {
        "id": "oxXvMBKNsX8M"
      }
    },
    {
      "cell_type": "code",
      "source": [
        "def main():\n",
        "    num1 = int(input(\"Enter the first number: \"))\n",
        "    num2 = int(input(\"Enter the second number: \"))\n",
        "\n",
        "    print(\"Select operation:\")\n",
        "    print(\"1. Add\")\n",
        "    print(\"2. Multiply\")\n",
        "    choice = input(\"Enter choice (1/2): \")\n",
        "\n",
        "    if choice == '1':\n",
        "        result = num1 + num2\n",
        "        print(num1, \"+\", num2, \"=\", result)\n",
        "    elif choice == '2':\n",
        "        result = num1 * num2\n",
        "        print(num1, \"*\", num2, \"=\", result)\n",
        "    else:\n",
        "        print(\"Invalid input\")\n",
        "\n",
        "    continue_choice = input(\"Do you want to continue? (Y/N): \")\n",
        "    if continue_choice.lower() == 'y':\n",
        "        main()\n",
        "    else:\n",
        "        print(\"Have a good day.\")\n",
        "\n",
        "if __name__ == \"__main__\":\n",
        "    main()"
      ],
      "metadata": {
        "id": "w9Ai1I_JsYw9",
        "colab": {
          "base_uri": "https://localhost:8080/"
        },
        "outputId": "97f1bd02-5fe6-4fab-fcc1-8990aef7ca1a"
      },
      "execution_count": 20,
      "outputs": [
        {
          "output_type": "stream",
          "name": "stdout",
          "text": [
            "Enter the first number: 10\n",
            "Enter the second number: 13\n",
            "Select operation:\n",
            "1. Add\n",
            "2. Multiply\n",
            "Enter choice (1/2): 1\n",
            "10 + 13 = 23\n",
            "Do you want to continue? (Y/N): N\n",
            "Have a good day.\n"
          ]
        }
      ]
    },
    {
      "cell_type": "markdown",
      "source": [
        "### 2. For loops\n",
        "\n",
        "a. Write a code that counts the total number of characters in a text and also counts each character individually. For example, consider the sentence \"To be, or not to be, that is the question.\" The code should determine the total number of letters and how many times each letter appears, including specific counts for the letters 't' and 'o', etc. Ignore the upper and lower cases letters, and any punctuations symbols. Use only for loop, while loop, break and continue statements where necessary.\n",
        "\n",
        "#### Sample input: ```To be, or not to be, that is the question```\n",
        "\n",
        "#### Expected output: ###\n",
        "\n",
        "```\n",
        "Total number of alphabets: 30\n",
        "Total number of distinct alphabets are:\n",
        "T = 7\n",
        "o = 4\n",
        "```\n",
        "> **Note:** The expected output above is incomplete.\n"
      ],
      "metadata": {
        "id": "IeiOBf1Tse1c"
      }
    },
    {
      "cell_type": "code",
      "source": [
        "def count_characters(text):\n",
        "    char_count = {}\n",
        "    total_chars = 0\n",
        "\n",
        "    for char in text:\n",
        "        char = char.lower()\n",
        "        if char.isalpha():\n",
        "            char_count[char] = char_count.get(char, 0) + 1\n",
        "            total_chars += 1\n",
        "\n",
        "    print(\"Total characters:\", total_chars)\n",
        "    print(\"Character counts:\")\n",
        "    for key, value in char_count.items():\n",
        "        print(f\"{key}: {value}\")\n",
        "\n",
        "text = \"To be, or not to be, that is the question.\"\n",
        "count_characters(text)"
      ],
      "metadata": {
        "id": "FprfxHfksh2-",
        "colab": {
          "base_uri": "https://localhost:8080/"
        },
        "outputId": "266d9bc1-f929-4c43-b7ca-ce67e52e9dd2"
      },
      "execution_count": 24,
      "outputs": [
        {
          "output_type": "stream",
          "name": "stdout",
          "text": [
            "Total characters: 30\n",
            "Character counts:\n",
            "t: 7\n",
            "o: 5\n",
            "b: 2\n",
            "e: 4\n",
            "r: 1\n",
            "n: 2\n",
            "h: 2\n",
            "a: 1\n",
            "i: 2\n",
            "s: 2\n",
            "q: 1\n",
            "u: 1\n"
          ]
        }
      ]
    },
    {
      "cell_type": "markdown",
      "source": [
        "## Challenges\n",
        "\n",
        "Please describe the challenges you faced during the exercise."
      ],
      "metadata": {
        "id": "xQzjxKdvvbyo"
      }
    },
    {
      "cell_type": "markdown",
      "source": [
        "Biggest challange is organization. Remembering operation symbols is getting difficult so I need to review."
      ],
      "metadata": {
        "id": "OeffDrVjTfyp"
      }
    },
    {
      "cell_type": "markdown",
      "source": [
        "Write your challenges here"
      ],
      "metadata": {
        "id": "qfJNpTB5EbY4"
      }
    }
  ]
}