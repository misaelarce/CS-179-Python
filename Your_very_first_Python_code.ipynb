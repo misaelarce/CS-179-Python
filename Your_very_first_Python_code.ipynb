{
  "nbformat": 4,
  "nbformat_minor": 0,
  "metadata": {
    "colab": {
      "provenance": [],
      "toc_visible": true,
      "include_colab_link": true
    },
    "kernelspec": {
      "name": "python3",
      "display_name": "Python 3"
    },
    "language_info": {
      "name": "python"
    }
  },
  "cells": [
    {
      "cell_type": "markdown",
      "metadata": {
        "id": "view-in-github",
        "colab_type": "text"
      },
      "source": [
        "<a href=\"https://colab.research.google.com/github/misaelarce/CS-179-Python/blob/main/Your_very_first_Python_code.ipynb\" target=\"_parent\"><img src=\"https://colab.research.google.com/assets/colab-badge.svg\" alt=\"Open In Colab\"/></a>"
      ]
    },
    {
      "cell_type": "markdown",
      "source": [
        "# Your first python code\n",
        "\n",
        "## Objective\n",
        "Write your very first python code\n",
        "\n",
        "## Prerequisite\n",
        "\n",
        "- Your very first code `lecture`\n",
        "\n",
        "## What do you need to complete this exercise?\n",
        "\n",
        "You can perform this exercise in any Python IDE, including JupyterLab or Google Colab.\n"
      ],
      "metadata": {
        "id": "2ITy4ycVFXBq"
      }
    },
    {
      "cell_type": "markdown",
      "source": [
        "\n",
        "\n",
        "### Your first code\n",
        "\n",
        "a. Print the following statements using multiple ```print()``` statements\n",
        "```\n",
        "All the world's a stage,\n",
        "And all the men and women merely players:\n",
        "They have their exits and their entrances;\n",
        "And one man in his time plays many parts,\n",
        "His acts being seven ages.\n",
        "```\n",
        "\n"
      ],
      "metadata": {
        "id": "uQxH0KO0tsDc"
      }
    },
    {
      "cell_type": "code",
      "source": [
        "print(\"All the world's a stage,\")\n",
        "print(\"And all the men and women merely players:\")\n",
        "print(\"They have thier exits and their entrances;\")\n",
        "print(\"And on man in his time plays many parts,\")\n",
        "print(\"His acts being seven ages.\")"
      ],
      "metadata": {
        "id": "tLQh-A7Kt70H",
        "colab": {
          "base_uri": "https://localhost:8080/"
        },
        "outputId": "6179fba7-dd6d-490c-ae95-4b4f7467c609"
      },
      "execution_count": 1,
      "outputs": [
        {
          "output_type": "stream",
          "name": "stdout",
          "text": [
            "All the world's a stage,\n",
            "And all the men and women merely players:\n",
            "They have thier exits and their entrances;\n",
            "And on man in his time plays many parts,\n",
            "His acts being seven ages.\n"
          ]
        }
      ]
    },
    {
      "cell_type": "markdown",
      "source": [
        "b. Print the above statements using a single ```print()``` statement"
      ],
      "metadata": {
        "id": "WjCVjgFuu2LR"
      }
    },
    {
      "cell_type": "code",
      "source": [
        "print(\"All the world's a stage,\",\"And all men and women merely players;\",\"They have their exits and their entrances;\",\"And one man in his time plays many parts,\",\"his acts being seven ages.\")"
      ],
      "metadata": {
        "id": "Z3US7bf6u5lp",
        "colab": {
          "base_uri": "https://localhost:8080/"
        },
        "outputId": "b74d3ab7-af23-43d5-96b6-7592d8b171bd"
      },
      "execution_count": 3,
      "outputs": [
        {
          "output_type": "stream",
          "name": "stdout",
          "text": [
            "All the world's a stage, And all men and women merely players; They have their exits and their entrances; And one man in his time plays many parts, his acts being seven ages.\n"
          ]
        }
      ]
    },
    {
      "cell_type": "markdown",
      "source": [
        "c. Without coding, what is the output of the following statement:\n",
        "```print(\"127\",\"0\",\"0\",\"1\",sep=\".\")```"
      ],
      "metadata": {
        "id": "jGAy3_MlvONr"
      }
    },
    {
      "cell_type": "markdown",
      "source": [
        "\n"
      ],
      "metadata": {
        "id": "FrdFrBujEDB9"
      }
    },
    {
      "cell_type": "markdown",
      "source": [
        "127.0.0.1."
      ],
      "metadata": {
        "id": "dmmRhHxq2JOh"
      }
    },
    {
      "cell_type": "markdown",
      "source": [
        "d. Identify a situation where you have to print data with ```flush=True``` and ```flush=False```."
      ],
      "metadata": {
        "id": "ruYWccCbvTsi"
      }
    },
    {
      "cell_type": "markdown",
      "source": [
        "Default is False. To turn on buffer on Python you would code flush=True. This is for when you want to delay your execution. For Python to execute the code all at once you code flush=False."
      ],
      "metadata": {
        "id": "wTJpOpOK4NS6"
      }
    },
    {
      "cell_type": "markdown",
      "source": [
        "e. By default, the ```flush``` is disabled but ```print()``` output behaves like ```flush=True```. Which argument triggers the flush?"
      ],
      "metadata": {
        "id": "bXxEnnzFvZg5"
      }
    },
    {
      "cell_type": "markdown",
      "source": [],
      "metadata": {
        "id": "gn4oy2qo3wf7"
      }
    },
    {
      "cell_type": "markdown",
      "source": [
        "You would have to manually enter flush=False on your print() function. Sometimes the interpreter already is doing it in the backend, and flush True/Flase will look similar when executing the code."
      ],
      "metadata": {
        "id": "B-1yrDoQ4-Er"
      }
    },
    {
      "cell_type": "code",
      "source": [
        "# Write your code here"
      ],
      "metadata": {
        "id": "TXRXo2bCvaNA"
      },
      "execution_count": null,
      "outputs": []
    },
    {
      "cell_type": "markdown",
      "source": [
        "## Since Python is my first language I had to get used to the software programmers use, such as github and google colab. I had to watch the videos over a few times to get used to how to manuever and connect my github to colab.\n",
        "\n"
      ],
      "metadata": {
        "id": "xQzjxKdvvbyo"
      }
    },
    {
      "cell_type": "markdown",
      "source": [
        "Write your challenges here"
      ],
      "metadata": {
        "id": "qfJNpTB5EbY4"
      }
    }
  ]
}